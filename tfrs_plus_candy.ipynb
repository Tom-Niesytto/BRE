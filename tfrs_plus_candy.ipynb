{
  "nbformat": 4,
  "nbformat_minor": 0,
  "metadata": {
    "colab": {
      "name": "tfrs_plus_candy",
      "provenance": [],
      "collapsed_sections": []
    },
    "kernelspec": {
      "name": "python3",
      "display_name": "Python 3"
    }
  },
  "cells": [
    {
      "cell_type": "code",
      "metadata": {
        "id": "OoKIayZN_YAN"
      },
      "source": [
        "# Adapted from: https://www.tensorflow.org/recommenders/examples/basic_retrieval"
      ],
      "execution_count": 1,
      "outputs": []
    },
    {
      "cell_type": "code",
      "metadata": {
        "id": "Yoiz2TyArmaU"
      },
      "source": [
        "!pip install -q tensorflow-recommenders"
      ],
      "execution_count": 2,
      "outputs": []
    },
    {
      "cell_type": "markdown",
      "metadata": {
        "id": "XX_YyjXrO0lm"
      },
      "source": [
        "### Imports"
      ]
    },
    {
      "cell_type": "code",
      "metadata": {
        "id": "CyEh9wowrfO6"
      },
      "source": [
        "import pandas as pd\n",
        "\n",
        "from tensorflow.data import Dataset\n",
        "from tensorflow.keras import Sequential\n",
        "from tensorflow.keras.layers import Embedding, Dense\n",
        "from tensorflow.keras.layers.experimental.preprocessing import StringLookup\n",
        "from tensorflow.keras.optimizers import Adagrad\n",
        "\n",
        "import tensorflow as tf\n",
        "import tensorflow_recommenders as tfrs\n",
        "from tensorflow_recommenders.metrics import FactorizedTopK\n",
        "from tensorflow_recommenders.tasks import Retrieval"
      ],
      "execution_count": 3,
      "outputs": []
    },
    {
      "cell_type": "markdown",
      "metadata": {
        "id": "Q_8N8SJZO48L"
      },
      "source": [
        "### Data"
      ]
    },
    {
      "cell_type": "code",
      "metadata": {
        "id": "oJyYltm2rm81"
      },
      "source": [
        "# from google.colab import files\n",
        "# files.upload()\n",
        "# df = pd.read_csv(\"candy.csv\")"
      ],
      "execution_count": 4,
      "outputs": []
    },
    {
      "cell_type": "code",
      "metadata": {
        "id": "2Ws4lIpNruA1"
      },
      "source": [
        "df = pd.read_csv(\"https://raw.githubusercontent.com/maxhumber/BRE/master/data/candy.csv\")"
      ],
      "execution_count": 5,
      "outputs": []
    },
    {
      "cell_type": "code",
      "metadata": {
        "id": "5HOyu-L_BZP_",
        "outputId": "c2dc9b1b-1a2a-40d9-f981-a55c0c8e741e",
        "colab": {
          "base_uri": "https://localhost:8080/",
          "height": 206
        }
      },
      "source": [
        "df.head()"
      ],
      "execution_count": 6,
      "outputs": [
        {
          "output_type": "execute_result",
          "data": {
            "text/html": [
              "<div>\n",
              "<style scoped>\n",
              "    .dataframe tbody tr th:only-of-type {\n",
              "        vertical-align: middle;\n",
              "    }\n",
              "\n",
              "    .dataframe tbody tr th {\n",
              "        vertical-align: top;\n",
              "    }\n",
              "\n",
              "    .dataframe thead th {\n",
              "        text-align: right;\n",
              "    }\n",
              "</style>\n",
              "<table border=\"1\" class=\"dataframe\">\n",
              "  <thead>\n",
              "    <tr style=\"text-align: right;\">\n",
              "      <th></th>\n",
              "      <th>item</th>\n",
              "      <th>user</th>\n",
              "      <th>review</th>\n",
              "    </tr>\n",
              "  </thead>\n",
              "  <tbody>\n",
              "    <tr>\n",
              "      <th>0</th>\n",
              "      <td>Reese's Peanut Butter Cups Miniatures</td>\n",
              "      <td>darlene90</td>\n",
              "      <td>5</td>\n",
              "    </tr>\n",
              "    <tr>\n",
              "      <th>1</th>\n",
              "      <td>Reese's Peanut Butter Cups Miniatures</td>\n",
              "      <td>taylordarlene</td>\n",
              "      <td>4</td>\n",
              "    </tr>\n",
              "    <tr>\n",
              "      <th>2</th>\n",
              "      <td>Reese's Peanut Butter Cups Miniatures</td>\n",
              "      <td>aliciadennis</td>\n",
              "      <td>5</td>\n",
              "    </tr>\n",
              "    <tr>\n",
              "      <th>3</th>\n",
              "      <td>Reese's Peanut Butter Cups Miniatures</td>\n",
              "      <td>ocook</td>\n",
              "      <td>5</td>\n",
              "    </tr>\n",
              "    <tr>\n",
              "      <th>4</th>\n",
              "      <td>Reese's Peanut Butter Cups Miniatures</td>\n",
              "      <td>chad38</td>\n",
              "      <td>5</td>\n",
              "    </tr>\n",
              "  </tbody>\n",
              "</table>\n",
              "</div>"
            ],
            "text/plain": [
              "                                    item           user  review\n",
              "0  Reese's Peanut Butter Cups Miniatures      darlene90       5\n",
              "1  Reese's Peanut Butter Cups Miniatures  taylordarlene       4\n",
              "2  Reese's Peanut Butter Cups Miniatures   aliciadennis       5\n",
              "3  Reese's Peanut Butter Cups Miniatures          ocook       5\n",
              "4  Reese's Peanut Butter Cups Miniatures         chad38       5"
            ]
          },
          "metadata": {
            "tags": []
          },
          "execution_count": 6
        }
      ]
    },
    {
      "cell_type": "code",
      "metadata": {
        "id": "suBTLqsZBXhy"
      },
      "source": [
        "dataset = Dataset.from_tensor_slices(df.to_dict('list'))\n",
        "items = Dataset.from_tensor_slices(df['item'].unique())"
      ],
      "execution_count": 7,
      "outputs": []
    },
    {
      "cell_type": "code",
      "metadata": {
        "id": "Njn6IqXauUnF",
        "outputId": "a6494547-ad0b-4f94-c39c-f3c217cab636",
        "colab": {
          "base_uri": "https://localhost:8080/",
          "height": 34
        }
      },
      "source": [
        "for row in dataset.take(1).as_numpy_iterator():\n",
        "    print(row)"
      ],
      "execution_count": 8,
      "outputs": [
        {
          "output_type": "stream",
          "text": [
            "{'item': b\"Reese's Peanut Butter Cups Miniatures\", 'user': b'darlene90', 'review': 5}\n"
          ],
          "name": "stdout"
        }
      ]
    },
    {
      "cell_type": "markdown",
      "metadata": {
        "id": "zLeH-_FlO7-m"
      },
      "source": [
        "### Train/Test Split"
      ]
    },
    {
      "cell_type": "code",
      "metadata": {
        "id": "SXMnYpk8vRSn",
        "outputId": "26385968-61b7-4beb-f3fc-b85cbfeac11c",
        "colab": {
          "base_uri": "https://localhost:8080/",
          "height": 34
        }
      },
      "source": [
        "rows = df.shape[0]\n",
        "n_train = int(rows * 0.8 // 1)\n",
        "n_test = rows - n_train\n",
        "\n",
        "print(n_train, n_test)"
      ],
      "execution_count": 9,
      "outputs": [
        {
          "output_type": "stream",
          "text": [
            "13787 3447\n"
          ],
          "name": "stdout"
        }
      ]
    },
    {
      "cell_type": "code",
      "metadata": {
        "id": "QQF_Yivru1WH"
      },
      "source": [
        "tf.random.set_seed(42)\n",
        "shuffled = dataset.shuffle(rows, seed=42, reshuffle_each_iteration=False)\n",
        "\n",
        "train = shuffled.take(n_train)\n",
        "test = shuffled.skip(n_train).take(n_test)"
      ],
      "execution_count": 10,
      "outputs": []
    },
    {
      "cell_type": "markdown",
      "metadata": {
        "id": "JqS1i4hNPBxM"
      },
      "source": [
        "### Model Definition"
      ]
    },
    {
      "cell_type": "code",
      "metadata": {
        "id": "5Pm1QlVAv-QH"
      },
      "source": [
        "unique_items = df.item.unique()\n",
        "unique_users = df.user.unique()"
      ],
      "execution_count": 11,
      "outputs": []
    },
    {
      "cell_type": "code",
      "metadata": {
        "id": "wSAdcspLBnfE"
      },
      "source": [
        "embedding_dimension = 32"
      ],
      "execution_count": 12,
      "outputs": []
    },
    {
      "cell_type": "code",
      "metadata": {
        "id": "g0NrnhoG1ee-"
      },
      "source": [
        "user_model = Sequential([\n",
        "    StringLookup(vocabulary=unique_users),\n",
        "    # add 2 to account for unknown and mask tokens\n",
        "    Embedding(len(unique_users) + 2, embedding_dimension)   \n",
        "])"
      ],
      "execution_count": 13,
      "outputs": []
    },
    {
      "cell_type": "code",
      "metadata": {
        "id": "j8b38uPo1rXb"
      },
      "source": [
        "item_model = Sequential([\n",
        "    StringLookup(vocabulary=unique_items),\n",
        "    Embedding(len(unique_items) + 2, embedding_dimension)\n",
        "])"
      ],
      "execution_count": 14,
      "outputs": []
    },
    {
      "cell_type": "code",
      "metadata": {
        "id": "VJyMWaqS3-uM"
      },
      "source": [
        "metrics = FactorizedTopK(candidates=items.batch(128).map(item_model))"
      ],
      "execution_count": 15,
      "outputs": []
    },
    {
      "cell_type": "code",
      "metadata": {
        "id": "2TJU3_U_76QH"
      },
      "source": [
        "task = Retrieval(metrics=metrics)"
      ],
      "execution_count": 16,
      "outputs": []
    },
    {
      "cell_type": "code",
      "metadata": {
        "id": "vx0aCSkf8PCn",
        "outputId": "d4e21003-ce48-4ccf-de39-98d4ff2f720b",
        "colab": {
          "base_uri": "https://localhost:8080/",
          "height": 34
        }
      },
      "source": [
        "for row in dataset.take(1).as_numpy_iterator():\n",
        "    print(row)"
      ],
      "execution_count": 17,
      "outputs": [
        {
          "output_type": "stream",
          "text": [
            "{'item': b\"Reese's Peanut Butter Cups Miniatures\", 'user': b'darlene90', 'review': 5}\n"
          ],
          "name": "stdout"
        }
      ]
    },
    {
      "cell_type": "code",
      "metadata": {
        "id": "I1rGr1Xf8Dsq"
      },
      "source": [
        "class CandyModel(tfrs.Model):\n",
        "\n",
        "    def __init__(self, user_model, item_model, task):\n",
        "        super().__init__()\n",
        "        self.item_model = item_model\n",
        "        self.user_model = user_model\n",
        "        self.task = task\n",
        "\n",
        "    def compute_loss(self, features, training=False):\n",
        "        user_embeddings = self.user_model(features[\"user\"])\n",
        "        positive_item_embeddings = self.item_model(features[\"item\"])\n",
        "        return self.task(user_embeddings, positive_item_embeddings)"
      ],
      "execution_count": 18,
      "outputs": []
    },
    {
      "cell_type": "markdown",
      "metadata": {
        "id": "m_Sgg-azPOrU"
      },
      "source": [
        "### Model Training"
      ]
    },
    {
      "cell_type": "code",
      "metadata": {
        "id": "DimUZ4668boP"
      },
      "source": [
        "model = CandyModel(user_model, item_model, task)\n",
        "model.compile(optimizer=Adagrad(learning_rate=0.1))"
      ],
      "execution_count": 19,
      "outputs": []
    },
    {
      "cell_type": "code",
      "metadata": {
        "id": "NSDbSGXB90H7"
      },
      "source": [
        "cached_train = train.batch(128).cache()\n",
        "cached_test = test.batch(128).cache()"
      ],
      "execution_count": 20,
      "outputs": []
    },
    {
      "cell_type": "code",
      "metadata": {
        "id": "ttkSL-2o8e1f",
        "outputId": "8880f336-cdfc-41a6-a6a1-93731d1795e2",
        "colab": {
          "base_uri": "https://localhost:8080/",
          "height": 159
        }
      },
      "source": [
        "model.fit(cached_train, epochs=3)"
      ],
      "execution_count": 21,
      "outputs": [
        {
          "output_type": "stream",
          "text": [
            "Epoch 1/3\n",
            "108/108 [==============================] - 3s 26ms/step - factorized_top_k: 0.2848 - factorized_top_k/top_1_categorical_accuracy: 7.2532e-05 - factorized_top_k/top_5_categorical_accuracy: 0.0586 - factorized_top_k/top_10_categorical_accuracy: 0.1348 - factorized_top_k/top_50_categorical_accuracy: 0.4688 - factorized_top_k/top_100_categorical_accuracy: 0.7617 - loss: 614.4836 - regularization_loss: 0.0000e+00 - total_loss: 614.4836\n",
            "Epoch 2/3\n",
            "108/108 [==============================] - 3s 25ms/step - factorized_top_k: 0.4526 - factorized_top_k/top_1_categorical_accuracy: 0.0030 - factorized_top_k/top_5_categorical_accuracy: 0.1881 - factorized_top_k/top_10_categorical_accuracy: 0.3489 - factorized_top_k/top_50_categorical_accuracy: 0.7820 - factorized_top_k/top_100_categorical_accuracy: 0.9410 - loss: 564.4349 - regularization_loss: 0.0000e+00 - total_loss: 564.4349\n",
            "Epoch 3/3\n",
            "108/108 [==============================] - 3s 26ms/step - factorized_top_k: 0.5390 - factorized_top_k/top_1_categorical_accuracy: 0.0053 - factorized_top_k/top_5_categorical_accuracy: 0.2942 - factorized_top_k/top_10_categorical_accuracy: 0.5032 - factorized_top_k/top_50_categorical_accuracy: 0.9047 - factorized_top_k/top_100_categorical_accuracy: 0.9875 - loss: 496.8172 - regularization_loss: 0.0000e+00 - total_loss: 496.8172\n"
          ],
          "name": "stdout"
        },
        {
          "output_type": "execute_result",
          "data": {
            "text/plain": [
              "<tensorflow.python.keras.callbacks.History at 0x7f85fd5c8898>"
            ]
          },
          "metadata": {
            "tags": []
          },
          "execution_count": 21
        }
      ]
    },
    {
      "cell_type": "code",
      "metadata": {
        "id": "_lsquCv7tKZH",
        "outputId": "6f4aacd5-e66b-474b-ddbc-f7606b946d86",
        "colab": {
          "base_uri": "https://localhost:8080/",
          "height": 228
        }
      },
      "source": [
        "model.evaluate(cached_test, return_dict=True)"
      ],
      "execution_count": 22,
      "outputs": [
        {
          "output_type": "stream",
          "text": [
            "27/27 [==============================] - 1s 28ms/step - factorized_top_k: 0.3905 - factorized_top_k/top_1_categorical_accuracy: 0.0046 - factorized_top_k/top_5_categorical_accuracy: 0.0908 - factorized_top_k/top_10_categorical_accuracy: 0.2359 - factorized_top_k/top_50_categorical_accuracy: 0.7067 - factorized_top_k/top_100_categorical_accuracy: 0.9144 - loss: 581.8089 - regularization_loss: 0.0000e+00 - total_loss: 581.8089\n"
          ],
          "name": "stdout"
        },
        {
          "output_type": "execute_result",
          "data": {
            "text/plain": [
              "{'factorized_top_k': array([0.00464172, 0.0908036 , 0.23585726, 0.70670146, 0.91441834],\n",
              "       dtype=float32),\n",
              " 'factorized_top_k/top_100_categorical_accuracy': 0.9144183397293091,\n",
              " 'factorized_top_k/top_10_categorical_accuracy': 0.2358572632074356,\n",
              " 'factorized_top_k/top_1_categorical_accuracy': 0.004641717299818993,\n",
              " 'factorized_top_k/top_50_categorical_accuracy': 0.7067014575004578,\n",
              " 'factorized_top_k/top_5_categorical_accuracy': 0.0908036008477211,\n",
              " 'loss': 534.1340942382812,\n",
              " 'regularization_loss': 0,\n",
              " 'total_loss': 534.1340942382812}"
            ]
          },
          "metadata": {
            "tags": []
          },
          "execution_count": 22
        }
      ]
    },
    {
      "cell_type": "markdown",
      "metadata": {
        "id": "fLxAF56XPRcf"
      },
      "source": [
        "### Predictions"
      ]
    },
    {
      "cell_type": "code",
      "metadata": {
        "id": "fuwCobtxLkUT"
      },
      "source": [
        "# Create a model that takes in raw query features, and\n",
        "index = tfrs.layers.ann.BruteForce(model.user_model)\n",
        "# recommends candies out of the entire candy dataset.\n",
        "index.index(items.batch(100).map(model.item_model), items)"
      ],
      "execution_count": 23,
      "outputs": []
    },
    {
      "cell_type": "code",
      "metadata": {
        "id": "mRwp7YidMLfk"
      },
      "source": [
        "_, candies = index(tf.constant([\"taylordarlene\"]))"
      ],
      "execution_count": 24,
      "outputs": []
    },
    {
      "cell_type": "code",
      "metadata": {
        "id": "xGmQehw6M5rE",
        "outputId": "bab5c896-9203-46d1-bd26-f024df5c53e3",
        "colab": {
          "base_uri": "https://localhost:8080/",
          "height": 206
        }
      },
      "source": [
        "df[df['user'] == \"taylordarlene\"]"
      ],
      "execution_count": 25,
      "outputs": [
        {
          "output_type": "execute_result",
          "data": {
            "text/html": [
              "<div>\n",
              "<style scoped>\n",
              "    .dataframe tbody tr th:only-of-type {\n",
              "        vertical-align: middle;\n",
              "    }\n",
              "\n",
              "    .dataframe tbody tr th {\n",
              "        vertical-align: top;\n",
              "    }\n",
              "\n",
              "    .dataframe thead th {\n",
              "        text-align: right;\n",
              "    }\n",
              "</style>\n",
              "<table border=\"1\" class=\"dataframe\">\n",
              "  <thead>\n",
              "    <tr style=\"text-align: right;\">\n",
              "      <th></th>\n",
              "      <th>item</th>\n",
              "      <th>user</th>\n",
              "      <th>review</th>\n",
              "    </tr>\n",
              "  </thead>\n",
              "  <tbody>\n",
              "    <tr>\n",
              "      <th>1</th>\n",
              "      <td>Reese's Peanut Butter Cups Miniatures</td>\n",
              "      <td>taylordarlene</td>\n",
              "      <td>4</td>\n",
              "    </tr>\n",
              "    <tr>\n",
              "      <th>34</th>\n",
              "      <td>Ferrero Rocher Chocolate</td>\n",
              "      <td>taylordarlene</td>\n",
              "      <td>5</td>\n",
              "    </tr>\n",
              "    <tr>\n",
              "      <th>266</th>\n",
              "      <td>Twix</td>\n",
              "      <td>taylordarlene</td>\n",
              "      <td>5</td>\n",
              "    </tr>\n",
              "    <tr>\n",
              "      <th>665</th>\n",
              "      <td>M&amp;Ms Peanut Chocolate Candy</td>\n",
              "      <td>taylordarlene</td>\n",
              "      <td>5</td>\n",
              "    </tr>\n",
              "    <tr>\n",
              "      <th>872</th>\n",
              "      <td>Snickers Chocolate Bar</td>\n",
              "      <td>taylordarlene</td>\n",
              "      <td>5</td>\n",
              "    </tr>\n",
              "  </tbody>\n",
              "</table>\n",
              "</div>"
            ],
            "text/plain": [
              "                                      item           user  review\n",
              "1    Reese's Peanut Butter Cups Miniatures  taylordarlene       4\n",
              "34                Ferrero Rocher Chocolate  taylordarlene       5\n",
              "266                                   Twix  taylordarlene       5\n",
              "665            M&Ms Peanut Chocolate Candy  taylordarlene       5\n",
              "872                 Snickers Chocolate Bar  taylordarlene       5"
            ]
          },
          "metadata": {
            "tags": []
          },
          "execution_count": 25
        }
      ]
    },
    {
      "cell_type": "code",
      "metadata": {
        "id": "FnUcDnjHMeVm",
        "outputId": "50c6988e-8c13-49ed-84ad-e4cf12822717",
        "colab": {
          "base_uri": "https://localhost:8080/",
          "height": 191
        }
      },
      "source": [
        "candies[0].numpy().tolist()"
      ],
      "execution_count": 26,
      "outputs": [
        {
          "output_type": "execute_result",
          "data": {
            "text/plain": [
              "[b'Ferrero Rocher Chocolate',\n",
              " b\"Reese's Peanut Butter Cups Miniatures\",\n",
              " b'M&Ms Peanut Chocolate Candy',\n",
              " b'Snickers Chocolate Bar',\n",
              " b'Twix',\n",
              " b'Lindt Lindor Milk Chocolate Truffles',\n",
              " b'M&Ms Milk Chocolate Candy',\n",
              " b\"Hershey's Cookies 'n' Creme Candy Bar\",\n",
              " b\"Hershey's Kisses Milk Chocolate\",\n",
              " b'Nestle Toll House Semi Sweet Chocolate Morsels']"
            ]
          },
          "metadata": {
            "tags": []
          },
          "execution_count": 26
        }
      ]
    },
    {
      "cell_type": "markdown",
      "metadata": {
        "id": "b4Xy0uKGsvH2"
      },
      "source": [
        "### Ranking Models"
      ]
    },
    {
      "cell_type": "code",
      "metadata": {
        "id": "MiY3B7QfstpW"
      },
      "source": [
        "# Adapted from https://www.tensorflow.org/recommenders/examples/basic_ranking"
      ],
      "execution_count": 27,
      "outputs": []
    },
    {
      "cell_type": "code",
      "metadata": {
        "id": "Lm83a9n7-Hnx"
      },
      "source": [
        "class RankingModel(tf.keras.Model):\n",
        "\n",
        "    def __init__(self, unique_users, unique_items, embedding_dimension=32):\n",
        "        super().__init__()\n",
        "        self.embedding_dimension = embedding_dimension\n",
        "        self.user_embeddings = Sequential([\n",
        "            StringLookup(vocabulary=unique_users),\n",
        "            Embedding(len(unique_users) + 2, self.embedding_dimension)\n",
        "        ])\n",
        "        self.item_embeddings = Sequential([\n",
        "            StringLookup(vocabulary=unique_items),\n",
        "            Embedding(len(unique_items) + 2, self.embedding_dimension)\n",
        "        ])\n",
        "        self.ratings = Sequential([\n",
        "            # Learn multiple dense layers\n",
        "            Dense(256, activation=\"relu\"),\n",
        "            Dense(64, activation=\"relu\"),\n",
        "            # Make rating predictions in the final layer\n",
        "            Dense(1)\n",
        "        ])\n",
        "    \n",
        "    def call(self, user, item):\n",
        "        user_embedding = self.user_embeddings(user)\n",
        "        item_embedding = self.item_embeddings(item)\n",
        "        return self.ratings(tf.concat([user_embedding, item_embedding], axis=1))"
      ],
      "execution_count": 28,
      "outputs": []
    },
    {
      "cell_type": "code",
      "metadata": {
        "id": "Y3Hd_9zbubQr"
      },
      "source": [
        "task = tfrs.tasks.Ranking(\n",
        "    loss = tf.keras.losses.MeanSquaredError(),\n",
        "    metrics=[tf.keras.metrics.RootMeanSquaredError()]\n",
        ")"
      ],
      "execution_count": 29,
      "outputs": []
    },
    {
      "cell_type": "code",
      "metadata": {
        "id": "CPf3tNdaugSY"
      },
      "source": [
        "class CandyRankingModel(tfrs.Model):\n",
        "\n",
        "    def __init__(self, ranking_model, task):\n",
        "        super().__init__()\n",
        "        self.ranking_model = ranking_model\n",
        "        self.task = task\n",
        "\n",
        "    def compute_loss(self, features, training=False):\n",
        "        rating_predictions = self.ranking_model(features[\"user\"], features[\"item\"])\n",
        "        # The task computes the loss and the metrics.\n",
        "        return self.task(labels=features[\"review\"], predictions=rating_predictions)\n"
      ],
      "execution_count": 30,
      "outputs": []
    },
    {
      "cell_type": "code",
      "metadata": {
        "id": "zIShXAY7u6LU"
      },
      "source": [
        "ranking_model = RankingModel(unique_users, unique_items)\n",
        "model = CandyRankingModel(ranking_model, task)"
      ],
      "execution_count": 31,
      "outputs": []
    },
    {
      "cell_type": "code",
      "metadata": {
        "id": "hbxvDcaevMUp"
      },
      "source": [
        "model.compile(optimizer=Adagrad(learning_rate=0.1))"
      ],
      "execution_count": 32,
      "outputs": []
    },
    {
      "cell_type": "code",
      "metadata": {
        "id": "MO-qjPbdu_z7",
        "outputId": "e70e88c2-dfae-48a1-9a8b-a9f56fe1b140",
        "colab": {
          "base_uri": "https://localhost:8080/",
          "height": 1000
        }
      },
      "source": [
        "model.fit(cached_train, epochs=50)"
      ],
      "execution_count": 33,
      "outputs": [
        {
          "output_type": "stream",
          "text": [
            "Epoch 1/50\n",
            "108/108 [==============================] - 0s 2ms/step - root_mean_squared_error: 1.1364 - loss: 1.2826 - regularization_loss: 0.0000e+00 - total_loss: 1.2826\n",
            "Epoch 2/50\n",
            "108/108 [==============================] - 0s 2ms/step - root_mean_squared_error: 0.8068 - loss: 0.6486 - regularization_loss: 0.0000e+00 - total_loss: 0.6486\n",
            "Epoch 3/50\n",
            "108/108 [==============================] - 0s 2ms/step - root_mean_squared_error: 0.7679 - loss: 0.5874 - regularization_loss: 0.0000e+00 - total_loss: 0.5874\n",
            "Epoch 4/50\n",
            "108/108 [==============================] - 0s 2ms/step - root_mean_squared_error: 0.7489 - loss: 0.5584 - regularization_loss: 0.0000e+00 - total_loss: 0.5584\n",
            "Epoch 5/50\n",
            "108/108 [==============================] - 0s 2ms/step - root_mean_squared_error: 0.7376 - loss: 0.5415 - regularization_loss: 0.0000e+00 - total_loss: 0.5415\n",
            "Epoch 6/50\n",
            "108/108 [==============================] - 0s 2ms/step - root_mean_squared_error: 0.7286 - loss: 0.5282 - regularization_loss: 0.0000e+00 - total_loss: 0.5282\n",
            "Epoch 7/50\n",
            "108/108 [==============================] - 0s 2ms/step - root_mean_squared_error: 0.7197 - loss: 0.5152 - regularization_loss: 0.0000e+00 - total_loss: 0.5152\n",
            "Epoch 8/50\n",
            "108/108 [==============================] - 0s 2ms/step - root_mean_squared_error: 0.7110 - loss: 0.5027 - regularization_loss: 0.0000e+00 - total_loss: 0.5027\n",
            "Epoch 9/50\n",
            "108/108 [==============================] - 0s 2ms/step - root_mean_squared_error: 0.7028 - loss: 0.4911 - regularization_loss: 0.0000e+00 - total_loss: 0.4911\n",
            "Epoch 10/50\n",
            "108/108 [==============================] - 0s 2ms/step - root_mean_squared_error: 0.6946 - loss: 0.4797 - regularization_loss: 0.0000e+00 - total_loss: 0.4797\n",
            "Epoch 11/50\n",
            "108/108 [==============================] - 0s 2ms/step - root_mean_squared_error: 0.6852 - loss: 0.4668 - regularization_loss: 0.0000e+00 - total_loss: 0.4668\n",
            "Epoch 12/50\n",
            "108/108 [==============================] - 0s 2ms/step - root_mean_squared_error: 0.6748 - loss: 0.4527 - regularization_loss: 0.0000e+00 - total_loss: 0.4527\n",
            "Epoch 13/50\n",
            "108/108 [==============================] - 0s 2ms/step - root_mean_squared_error: 0.6636 - loss: 0.4377 - regularization_loss: 0.0000e+00 - total_loss: 0.4377\n",
            "Epoch 14/50\n",
            "108/108 [==============================] - 0s 2ms/step - root_mean_squared_error: 0.6532 - loss: 0.4242 - regularization_loss: 0.0000e+00 - total_loss: 0.4242\n",
            "Epoch 15/50\n",
            "108/108 [==============================] - 0s 2ms/step - root_mean_squared_error: 0.6442 - loss: 0.4125 - regularization_loss: 0.0000e+00 - total_loss: 0.4125\n",
            "Epoch 16/50\n",
            "108/108 [==============================] - 0s 2ms/step - root_mean_squared_error: 0.6360 - loss: 0.4022 - regularization_loss: 0.0000e+00 - total_loss: 0.4022\n",
            "Epoch 17/50\n",
            "108/108 [==============================] - 0s 2ms/step - root_mean_squared_error: 0.6289 - loss: 0.3932 - regularization_loss: 0.0000e+00 - total_loss: 0.3932\n",
            "Epoch 18/50\n",
            "108/108 [==============================] - 0s 2ms/step - root_mean_squared_error: 0.6215 - loss: 0.3840 - regularization_loss: 0.0000e+00 - total_loss: 0.3840\n",
            "Epoch 19/50\n",
            "108/108 [==============================] - 0s 2ms/step - root_mean_squared_error: 0.6144 - loss: 0.3753 - regularization_loss: 0.0000e+00 - total_loss: 0.3753\n",
            "Epoch 20/50\n",
            "108/108 [==============================] - 0s 2ms/step - root_mean_squared_error: 0.6066 - loss: 0.3658 - regularization_loss: 0.0000e+00 - total_loss: 0.3658\n",
            "Epoch 21/50\n",
            "108/108 [==============================] - 0s 2ms/step - root_mean_squared_error: 0.5983 - loss: 0.3558 - regularization_loss: 0.0000e+00 - total_loss: 0.3558\n",
            "Epoch 22/50\n",
            "108/108 [==============================] - 0s 2ms/step - root_mean_squared_error: 0.5881 - loss: 0.3438 - regularization_loss: 0.0000e+00 - total_loss: 0.3438\n",
            "Epoch 23/50\n",
            "108/108 [==============================] - 0s 2ms/step - root_mean_squared_error: 0.5771 - loss: 0.3310 - regularization_loss: 0.0000e+00 - total_loss: 0.3310\n",
            "Epoch 24/50\n",
            "108/108 [==============================] - 0s 2ms/step - root_mean_squared_error: 0.5623 - loss: 0.3142 - regularization_loss: 0.0000e+00 - total_loss: 0.3142\n",
            "Epoch 25/50\n",
            "108/108 [==============================] - 0s 2ms/step - root_mean_squared_error: 0.5461 - loss: 0.2963 - regularization_loss: 0.0000e+00 - total_loss: 0.2963\n",
            "Epoch 26/50\n",
            "108/108 [==============================] - 0s 2ms/step - root_mean_squared_error: 0.5362 - loss: 0.2857 - regularization_loss: 0.0000e+00 - total_loss: 0.2857\n",
            "Epoch 27/50\n",
            "108/108 [==============================] - 0s 2ms/step - root_mean_squared_error: 0.5270 - loss: 0.2760 - regularization_loss: 0.0000e+00 - total_loss: 0.2760\n",
            "Epoch 28/50\n",
            "108/108 [==============================] - 0s 2ms/step - root_mean_squared_error: 0.4989 - loss: 0.2473 - regularization_loss: 0.0000e+00 - total_loss: 0.2473\n",
            "Epoch 29/50\n",
            "108/108 [==============================] - 0s 2ms/step - root_mean_squared_error: 0.4741 - loss: 0.2235 - regularization_loss: 0.0000e+00 - total_loss: 0.2235\n",
            "Epoch 30/50\n",
            "108/108 [==============================] - 0s 2ms/step - root_mean_squared_error: 0.4554 - loss: 0.2063 - regularization_loss: 0.0000e+00 - total_loss: 0.2063\n",
            "Epoch 31/50\n",
            "108/108 [==============================] - 0s 2ms/step - root_mean_squared_error: 0.4337 - loss: 0.1870 - regularization_loss: 0.0000e+00 - total_loss: 0.1870\n",
            "Epoch 32/50\n",
            "108/108 [==============================] - 0s 2ms/step - root_mean_squared_error: 0.4081 - loss: 0.1656 - regularization_loss: 0.0000e+00 - total_loss: 0.1656\n",
            "Epoch 33/50\n",
            "108/108 [==============================] - 0s 2ms/step - root_mean_squared_error: 0.3805 - loss: 0.1440 - regularization_loss: 0.0000e+00 - total_loss: 0.1440\n",
            "Epoch 34/50\n",
            "108/108 [==============================] - 0s 2ms/step - root_mean_squared_error: 0.3567 - loss: 0.1266 - regularization_loss: 0.0000e+00 - total_loss: 0.1266\n",
            "Epoch 35/50\n",
            "108/108 [==============================] - 0s 2ms/step - root_mean_squared_error: 0.3307 - loss: 0.1088 - regularization_loss: 0.0000e+00 - total_loss: 0.1088\n",
            "Epoch 36/50\n",
            "108/108 [==============================] - 0s 2ms/step - root_mean_squared_error: 0.3114 - loss: 0.0965 - regularization_loss: 0.0000e+00 - total_loss: 0.0965\n",
            "Epoch 37/50\n",
            "108/108 [==============================] - 0s 2ms/step - root_mean_squared_error: 0.2871 - loss: 0.0821 - regularization_loss: 0.0000e+00 - total_loss: 0.0821\n",
            "Epoch 38/50\n",
            "108/108 [==============================] - 0s 2ms/step - root_mean_squared_error: 0.2667 - loss: 0.0708 - regularization_loss: 0.0000e+00 - total_loss: 0.0708\n",
            "Epoch 39/50\n",
            "108/108 [==============================] - 0s 2ms/step - root_mean_squared_error: 0.2493 - loss: 0.0619 - regularization_loss: 0.0000e+00 - total_loss: 0.0619\n",
            "Epoch 40/50\n",
            "108/108 [==============================] - 0s 2ms/step - root_mean_squared_error: 0.2301 - loss: 0.0528 - regularization_loss: 0.0000e+00 - total_loss: 0.0528\n",
            "Epoch 41/50\n",
            "108/108 [==============================] - 0s 2ms/step - root_mean_squared_error: 0.2132 - loss: 0.0455 - regularization_loss: 0.0000e+00 - total_loss: 0.0455\n",
            "Epoch 42/50\n",
            "108/108 [==============================] - 0s 2ms/step - root_mean_squared_error: 0.1966 - loss: 0.0387 - regularization_loss: 0.0000e+00 - total_loss: 0.0387\n",
            "Epoch 43/50\n",
            "108/108 [==============================] - 0s 2ms/step - root_mean_squared_error: 0.1847 - loss: 0.0341 - regularization_loss: 0.0000e+00 - total_loss: 0.0341\n",
            "Epoch 44/50\n",
            "108/108 [==============================] - 0s 2ms/step - root_mean_squared_error: 0.1725 - loss: 0.0297 - regularization_loss: 0.0000e+00 - total_loss: 0.0297\n",
            "Epoch 45/50\n",
            "108/108 [==============================] - 0s 2ms/step - root_mean_squared_error: 0.1621 - loss: 0.0262 - regularization_loss: 0.0000e+00 - total_loss: 0.0262\n",
            "Epoch 46/50\n",
            "108/108 [==============================] - 0s 2ms/step - root_mean_squared_error: 0.1495 - loss: 0.0223 - regularization_loss: 0.0000e+00 - total_loss: 0.0223\n",
            "Epoch 47/50\n",
            "108/108 [==============================] - 0s 2ms/step - root_mean_squared_error: 0.1396 - loss: 0.0194 - regularization_loss: 0.0000e+00 - total_loss: 0.0194\n",
            "Epoch 48/50\n",
            "108/108 [==============================] - 0s 2ms/step - root_mean_squared_error: 0.1322 - loss: 0.0175 - regularization_loss: 0.0000e+00 - total_loss: 0.0175\n",
            "Epoch 49/50\n",
            "108/108 [==============================] - 0s 2ms/step - root_mean_squared_error: 0.1279 - loss: 0.0163 - regularization_loss: 0.0000e+00 - total_loss: 0.0163\n",
            "Epoch 50/50\n",
            "108/108 [==============================] - 0s 2ms/step - root_mean_squared_error: 0.1239 - loss: 0.0153 - regularization_loss: 0.0000e+00 - total_loss: 0.0153\n"
          ],
          "name": "stdout"
        },
        {
          "output_type": "execute_result",
          "data": {
            "text/plain": [
              "<tensorflow.python.keras.callbacks.History at 0x7f85fd327d30>"
            ]
          },
          "metadata": {
            "tags": []
          },
          "execution_count": 33
        }
      ]
    },
    {
      "cell_type": "code",
      "metadata": {
        "id": "1n4EuEWkvKb0",
        "outputId": "bd31677c-8a2c-446c-8447-6c7ec59cd05d",
        "colab": {
          "base_uri": "https://localhost:8080/",
          "height": 124
        }
      },
      "source": [
        "model.evaluate(cached_test, return_dict=True)"
      ],
      "execution_count": 34,
      "outputs": [
        {
          "output_type": "stream",
          "text": [
            "27/27 [==============================] - 0s 2ms/step - root_mean_squared_error: 0.9788 - loss: 0.9581 - regularization_loss: 0.0000e+00 - total_loss: 0.9581\n"
          ],
          "name": "stdout"
        },
        {
          "output_type": "execute_result",
          "data": {
            "text/plain": [
              "{'loss': 0.9586119651794434,\n",
              " 'regularization_loss': 0,\n",
              " 'root_mean_squared_error': 0.9788199067115784,\n",
              " 'total_loss': 0.9586119651794434}"
            ]
          },
          "metadata": {
            "tags": []
          },
          "execution_count": 34
        }
      ]
    }
  ]
}